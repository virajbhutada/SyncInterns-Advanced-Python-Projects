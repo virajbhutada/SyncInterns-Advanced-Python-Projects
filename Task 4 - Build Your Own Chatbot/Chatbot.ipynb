{
  "nbformat": 4,
  "nbformat_minor": 0,
  "metadata": {
    "colab": {
      "provenance": []
    },
    "kernelspec": {
      "name": "python3",
      "display_name": "Python 3"
    },
    "language_info": {
      "name": "python"
    }
  },
  "cells": [
    {
      "cell_type": "markdown",
      "metadata": {
        "id": "8bQml1UXaYYz"
      },
      "source": [
        "\n",
        "\n",
        "**Description:**\n",
        "This project showcases the creation of a rule-based chatbot using natural language processing techniques. The chatbot is designed to respond intelligently to user queries based on predefined rules, providing valuable insights into natural language understanding and conversation dynamics.\n",
        "\n",
        "In the implementation, the first step involves importing essential libraries, including 're' for regular expressions, which facilitates pattern matching within the chatbot.\n",
        "\n",
        "Following that, a set of predefined rules is established, covering various user inputs such as greetings, inquiries, and goodbyes. Each rule is associated with specific patterns and corresponding responses.\n",
        "\n",
        "The core functionality is encapsulated in the simple_chatbot function, which takes user input, utilizes regular expressions to match predefined rules, and generates appropriate responses based on the established patterns.\n",
        "\n",
        "To enhance user interaction, an interactive conversation function and conversation loop are implemented. This allows users to engage in a dynamic conversation with the chatbot, featuring logic for exiting the conversation, restarting, and handling diverse user inputs within the conversation loop.\n",
        "\n",
        "This project not only provides a practical demonstration of rule-based chatbot development but also serves as a foundational exploration for more advanced conversational agents."
      ]
    },
    {
      "cell_type": "markdown",
      "metadata": {
        "id": "nbG_ivgmapS4"
      },
      "source": [
        "# **Step 1: Import Required Libraries**"
      ]
    },
    {
      "cell_type": "code",
      "execution_count": null,
      "metadata": {
        "id": "A4_W6m_6UegV"
      },
      "outputs": [],
      "source": [
        "# Import the 're' module for regular expressions\n",
        "import re"
      ]
    },
    {
      "cell_type": "markdown",
      "source": [
        "# **Step 2: Define Predefined Rules and Responses**"
      ],
      "metadata": {
        "id": "H5PhNOQ4UXN6"
      }
    },
    {
      "cell_type": "code",
      "source": [
        "# Predefined rules and responses\n",
        "rules = {\n",
        "    r'.*(hi|hello|hey|greetings).*': ['Hello!', 'Hi there!', 'Hey!'],\n",
        "    r'.*(how are you|how are you doing|what\\'s up|how\\'s it going).*': ['I am just a computer program, so I don\\'t have feelings, but I\\'m here to assist you!', 'I don\\'t have feelings, but I\\'m here and ready to help!'],\n",
        "    r'.*(bye|goodbye|see you|farewell).*': ['Goodbye!', 'See you later!', 'Have a great day!'],\n",
        "    r'.*(name|your name|who are you).*': ['I am a chatbot created by Codsoft AI Intern, Viraj N. Bhutada.'],\n",
        "    r'.*(help me|assist me).*': ['Of course! I\\'m here to help. What do you need assistance with?', 'Certainly! I can assist you. What do you need help with?'],\n",
        "    r'.*(joke|tell me a joke).*': [\n",
        "        'Sure, here\\'s a joke: Why did the chicken cross the road? To get to the other side!',\n",
        "        'Here\\'s one: Why don\\'t scientists trust atoms? Because they make up everything!',\n",
        "        'How about this one: Did you hear about the mathematician who’s afraid of negative numbers? He will stop at nothing to avoid them!'\n",
        "    ],\n",
        "    r'.*(thanks|thank you|appreciate it).*': ['You\\'re welcome!', 'No problem, happy to help!', 'Anytime!']\n",
        "}\n"
      ],
      "metadata": {
        "id": "NcCyiJeUUggk"
      },
      "execution_count": null,
      "outputs": []
    },
    {
      "cell_type": "markdown",
      "source": [
        "# **Step 3: Define Chatbot Function**"
      ],
      "metadata": {
        "id": "iEeRVfHrUiLb"
      }
    },
    {
      "cell_type": "code",
      "source": [
        "# Define chatbot function\n",
        "def simple_chatbot(user_input):\n",
        "    # Matching user input with predefined rules (case-insensitive)\n",
        "    for pattern, responses in rules.items():\n",
        "        if re.match(pattern, user_input, re.IGNORECASE):\n",
        "            return responses\n",
        "\n",
        "    # Default response if no match is found\n",
        "    return ['I\\'m sorry, I didn\\'t understand that. Can you please rephrase?', 'I didn\\'t get that. Can you try again?', 'I\\'m not sure what you mean.']\n"
      ],
      "metadata": {
        "id": "vEtRBCoQUuBh"
      },
      "execution_count": null,
      "outputs": []
    },
    {
      "cell_type": "markdown",
      "source": [
        "# **Step 4: Interactive Conversation Function and Conversation Loop**"
      ],
      "metadata": {
        "id": "3W6oygZ9UmUu"
      }
    },
    {
      "cell_type": "code",
      "source": [
        "# Third Code Cell (Interactive Conversation Function and Conversation Loop):\n",
        "def interactive_conversation():\n",
        "    print(\"Chatbot: Hi! How can I assist you today? (type 'exit' to end)\")\n",
        "\n",
        "    while True:\n",
        "        user_input = input(\"You: \")\n",
        "        if user_input.lower() == 'exit':\n",
        "            print(\"Chatbot: Goodbye! Have a great day!\")\n",
        "            restart = input(\"Chatbot: If you want to chat again, type 'start'. If you want to exit, type 'exit'.\\nYou: \")\n",
        "            if restart.lower() == 'start':\n",
        "                print(\"Chatbot: Let's start again!\")\n",
        "            elif restart.lower() == 'exit':\n",
        "                print(\"Chatbot: Thank you for chatting with me! I hope I was able to assist you. Have a great day!\")\n",
        "                break\n",
        "            else:\n",
        "                print(\"Chatbot: I'm sorry, I didn't understand that. Please type 'start' to chat again or 'exit' to end.\")\n",
        "        else:\n",
        "            response = simple_chatbot(user_input)\n",
        "            print(\"Chatbot:\", response[0])\n",
        "\n",
        "# Call the interactive conversation function to start chatting\n",
        "interactive_conversation()\n",
        "\n"
      ],
      "metadata": {
        "colab": {
          "base_uri": "https://localhost:8080/"
        },
        "id": "RL64oKIuUzcI",
        "outputId": "4ae2fb62-38ef-462d-f2d9-de7c34f234ff"
      },
      "execution_count": null,
      "outputs": [
        {
          "output_type": "stream",
          "name": "stdout",
          "text": [
            "Chatbot: Hi! How can I assist you today? (type 'exit' to end)\n",
            "You: Hello\n",
            "Chatbot: Hello!\n",
            "You: joke\n",
            "Chatbot: Sure, here's a joke: Why did the chicken cross the road? To get to the other side!\n",
            "You: can you help me\n",
            "Chatbot: Of course! I'm here to help. What do you need assistance with?\n",
            "You: thank you\n",
            "Chatbot: You're welcome!\n",
            "You: what's your name?\n",
            "Chatbot: I am a chatbot created by Codsoft AI Intern, Viraj N. Bhutada.\n",
            "You: how are you doing?\n",
            "Chatbot: I am just a computer program, so I don't have feelings, but I'm here to assist you!\n",
            "You: what are your interests?\n",
            "Chatbot: I'm sorry, I didn't understand that. Can you please rephrase?\n",
            "You: goodbye\n",
            "Chatbot: Goodbye!\n",
            "You: exit\n",
            "Chatbot: Goodbye! Have a great day!\n",
            "Chatbot: If you want to chat again, type 'start'. If you want to exit, type 'exit'.\n",
            "You: start\n",
            "Chatbot: Let's start again!\n",
            "You: hello\n",
            "Chatbot: Hello!\n",
            "You: how are you doing?\n",
            "Chatbot: I am just a computer program, so I don't have feelings, but I'm here to assist you!\n",
            "You: What's your name?\n",
            "Chatbot: I am a chatbot created by Codsoft AI Intern, Viraj N. Bhutada.\n",
            "You: exit\n",
            "Chatbot: Goodbye! Have a great day!\n",
            "Chatbot: If you want to chat again, type 'start'. If you want to exit, type 'exit'.\n",
            "You: tell me a joke\n",
            "Chatbot: I'm sorry, I didn't understand that. Please type 'start' to chat again or 'exit' to end.\n",
            "You: joke\n",
            "Chatbot: Sure, here's a joke: Why did the chicken cross the road? To get to the other side!\n",
            "You: hello\n",
            "Chatbot: Hello!\n",
            "You: what's your name?\n",
            "Chatbot: I am a chatbot created by Codsoft AI Intern, Viraj N. Bhutada.\n",
            "You: can you help me?\n",
            "Chatbot: Of course! I'm here to help. What do you need assistance with?\n",
            "You: Thank you\n",
            "Chatbot: You're welcome!\n",
            "You: exit\n",
            "Chatbot: Goodbye! Have a great day!\n",
            "Chatbot: If you want to chat again, type 'start'. If you want to exit, type 'exit'.\n",
            "You: exit\n",
            "Chatbot: Thank you for chatting with me! I hope I was able to assist you. Have a great day!\n"
          ]
        }
      ]
    },
    {
      "cell_type": "markdown",
      "source": [
        "# Conclusion:\n",
        "In conclusion, this project provided a hands-on experience in building a basic chatbot using rule-based techniques. By understanding user queries and providing relevant responses, this project enhances my understanding of natural language processing and conversation flow in the context of chatbots."
      ],
      "metadata": {
        "id": "Czq5nINCAurI"
      }
    }
  ]
}